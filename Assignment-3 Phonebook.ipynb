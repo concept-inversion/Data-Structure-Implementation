{
 "cells": [
  {
   "cell_type": "code",
   "execution_count": 74,
   "metadata": {},
   "outputs": [],
   "source": [
    "\n",
    "class tasks:\n",
    "    def __init__(self,read):\n",
    "        self.job=read[0]\n",
    "        self.number=read[1]\n",
    "        if self.job=='add':\n",
    "            self.name= read[2]\n",
    "    \n",
    "def read():\n",
    "    print(\"Enter the number of operations:\")\n",
    "    n= int(input())\n",
    "    print(\"Enter the transactions:\")\n",
    "    return [tasks(input().split()) for i in range(n)]\n",
    "\n",
    "def access_data(queries):\n",
    "    result=[]\n",
    "    contacts=[]\n",
    "    # For each query in user input\n",
    "    for query in queries:\n",
    "        \n",
    "        #If the job is to add contact\n",
    "        if query.job=='add':\n",
    "            \n",
    "            for contact in contacts:\n",
    "                # re-write existing contact \n",
    "                if contact.number==query.number:\n",
    "                    contact.name=query.name\n",
    "                    print(\"Rewrite\")\n",
    "                    break\n",
    "                # else add it to contacts\n",
    "            else:\n",
    "                    contacts.append(query)\n",
    "                    print(\"contact added\")\n",
    "        # Delete contact\n",
    "        elif query.job== 'del':\n",
    "            for i in range(len(contacts)):\n",
    "                if contacts[i].number== query.number:\n",
    "                    contacts.pop[i]\n",
    "        elif query.job== 'find': \n",
    "            response= 'not found'\n",
    "            for contact in contacts:\n",
    "                if contact.number == query.number:\n",
    "                    response = contact.name\n",
    "                    break\n",
    "            result.append(response)\n",
    "        else:\n",
    "            result.append(\"Sorry   -Justin beiber\")\n",
    "    return result"
   ]
  },
  {
   "cell_type": "code",
   "execution_count": 75,
   "metadata": {},
   "outputs": [],
   "source": [
    "def write(result):\n",
    "    for i in range (len(result)):\n",
    "        print(result[i])"
   ]
  },
  {
   "cell_type": "code",
   "execution_count": 76,
   "metadata": {},
   "outputs": [
    {
     "name": "stdout",
     "output_type": "stream",
     "text": [
      "Enter the number of operations:\n",
      "4\n",
      "Enter the transactions:\n",
      "add 23 hunt\n",
      "add 23 santo\n",
      "add 45 me\n",
      "find 23\n",
      "contact added\n",
      "Rewrite\n",
      "contact added\n",
      "santo\n"
     ]
    }
   ],
   "source": [
    "write(access_data(read()))"
   ]
  }
 ],
 "metadata": {
  "kernelspec": {
   "display_name": "Python 3",
   "language": "python",
   "name": "python3"
  },
  "language_info": {
   "codemirror_mode": {
    "name": "ipython",
    "version": 3
   },
   "file_extension": ".py",
   "mimetype": "text/x-python",
   "name": "python",
   "nbconvert_exporter": "python",
   "pygments_lexer": "ipython3",
   "version": "3.5.2"
  }
 },
 "nbformat": 4,
 "nbformat_minor": 2
}
