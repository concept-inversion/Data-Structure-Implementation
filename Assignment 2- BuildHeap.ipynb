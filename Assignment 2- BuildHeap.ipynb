{
 "cells": [
  {
   "cell_type": "code",
   "execution_count": 12,
   "metadata": {},
   "outputs": [],
   "source": [
    "# Function to find the Left Child\n",
    "def leftchild(i):\n",
    "    return (2*i+1)"
   ]
  },
  {
   "cell_type": "code",
   "execution_count": 13,
   "metadata": {},
   "outputs": [],
   "source": [
    "def rightchild(i):\n",
    "    return (2*i+2)"
   ]
  },
  {
   "cell_type": "code",
   "execution_count": 3,
   "metadata": {},
   "outputs": [],
   "source": [
    "def shiftdown(i,a,n):\n",
    "    maxindex=i\n",
    "    l= leftchild(i)\n",
    "    print(\"l index is :\",l)\n",
    "    if (l<=n) and (a[l]>a[maxindex]):\n",
    "        maxindex=l\n",
    "    r= rightchild(i)\n",
    "    print(\"r index is :\",r)\n",
    "    if (r<=n) and (a[r]>a[maxindex]):\n",
    "        maxindex=r\n",
    "    \n",
    "    if (i != maxindex):\n",
    "        print(\"Time to swap\")\n",
    "        a[i],a[maxindex]= a[maxindex], a[i]\n",
    "        print(\"Swapping\",a[i],a[maxindex])\n",
    "        shiftdown(maxindex,a,n)\n",
    "    \n",
    "    "
   ]
  },
  {
   "cell_type": "code",
   "execution_count": 4,
   "metadata": {},
   "outputs": [
    {
     "name": "stdout",
     "output_type": "stream",
     "text": [
      "4\n"
     ]
    }
   ],
   "source": [
    "n = int(input())\n"
   ]
  },
  {
   "cell_type": "code",
   "execution_count": 8,
   "metadata": {},
   "outputs": [
    {
     "name": "stdout",
     "output_type": "stream",
     "text": [
      "1 2 3 4 5\n"
     ]
    }
   ],
   "source": [
    "data = input()\n",
    "a = list(map(int,data.split(' ')))"
   ]
  },
  {
   "cell_type": "code",
   "execution_count": 9,
   "metadata": {},
   "outputs": [
    {
     "name": "stdout",
     "output_type": "stream",
     "text": [
      "3\n"
     ]
    }
   ],
   "source": [
    "print(a[2])"
   ]
  },
  {
   "cell_type": "code",
   "execution_count": 10,
   "metadata": {},
   "outputs": [
    {
     "name": "stdout",
     "output_type": "stream",
     "text": [
      "FOR %d 2\n",
      "l index is : 5\n",
      "r index is : 6\n",
      "FOR %d 1\n",
      "l index is : 3\n",
      "r index is : 4\n",
      "Time to swap\n",
      "Swapping 5 2\n",
      "l index is : 9\n",
      "r index is : 10\n",
      "FOR %d 0\n",
      "l index is : 1\n",
      "r index is : 2\n",
      "Time to swap\n",
      "Swapping 5 1\n",
      "l index is : 3\n",
      "r index is : 4\n",
      "Time to swap\n",
      "Swapping 4 1\n",
      "l index is : 7\n",
      "r index is : 8\n"
     ]
    }
   ],
   "source": [
    "for i in range(n//2,-1,-1):\n",
    "    print(\"FOR %d\",i)\n",
    "    shiftdown(i,a,n)\n",
    "    "
   ]
  },
  {
   "cell_type": "code",
   "execution_count": 11,
   "metadata": {},
   "outputs": [
    {
     "name": "stdout",
     "output_type": "stream",
     "text": [
      "[5, 4, 3, 1, 2]\n"
     ]
    }
   ],
   "source": [
    "print(a)"
   ]
  },
  {
   "cell_type": "code",
   "execution_count": null,
   "metadata": {},
   "outputs": [],
   "source": []
  }
 ],
 "metadata": {
  "celltoolbar": "Attachments",
  "kernelspec": {
   "display_name": "Python 3",
   "language": "python",
   "name": "python3"
  },
  "language_info": {
   "codemirror_mode": {
    "name": "ipython",
    "version": 3
   },
   "file_extension": ".py",
   "mimetype": "text/x-python",
   "name": "python",
   "nbconvert_exporter": "python",
   "pygments_lexer": "ipython3",
   "version": "3.5.2"
  }
 },
 "nbformat": 4,
 "nbformat_minor": 2
}
