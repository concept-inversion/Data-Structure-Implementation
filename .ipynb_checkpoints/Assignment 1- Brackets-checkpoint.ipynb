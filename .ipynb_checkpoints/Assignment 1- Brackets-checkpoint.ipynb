{
 "cells": [
  {
   "cell_type": "code",
   "execution_count": 77,
   "metadata": {},
   "outputs": [],
   "source": [
    "stack = []\n",
    "isbalanced=1"
   ]
  },
  {
   "cell_type": "code",
   "execution_count": 78,
   "metadata": {},
   "outputs": [
    {
     "name": "stdout",
     "output_type": "stream",
     "text": [
      "((([][]))[])\n"
     ]
    }
   ],
   "source": [
    "String= input()"
   ]
  },
  {
   "cell_type": "code",
   "execution_count": 79,
   "metadata": {},
   "outputs": [
    {
     "name": "stdout",
     "output_type": "stream",
     "text": [
      "[\n",
      "[\n",
      "(\n",
      "(\n",
      "[\n",
      "(\n"
     ]
    }
   ],
   "source": [
    "for x in String:\n",
    "    if (x == '(') or (x == '[') :  \n",
    "     stack.append(x)\n",
    "     \n",
    "    else:\n",
    "      if (x == ')') or (x == ']') :  \n",
    "            if (x == ')') and (stack[-1] != '(') : \n",
    "                isbalanced=0\n",
    "                break\n",
    "            if (x == ']') and (stack[-1] != '[') : \n",
    "                isbalanced=0\n",
    "                break\n",
    "            print(stack.pop())\n",
    "            "
   ]
  },
  {
   "cell_type": "code",
   "execution_count": 80,
   "metadata": {},
   "outputs": [
    {
     "name": "stdout",
     "output_type": "stream",
     "text": [
      "balanced\n"
     ]
    }
   ],
   "source": [
    "if (isbalanced==1) and (len(stack)==0):\n",
    "        print('balanced')\n",
    "else:\n",
    "        print(stack)\n",
    "        print('not balanced')"
   ]
  },
  {
   "cell_type": "code",
   "execution_count": null,
   "metadata": {},
   "outputs": [],
   "source": []
  }
 ],
 "metadata": {
  "kernelspec": {
   "display_name": "Python 3",
   "language": "python",
   "name": "python3"
  },
  "language_info": {
   "codemirror_mode": {
    "name": "ipython",
    "version": 3
   },
   "file_extension": ".py",
   "mimetype": "text/x-python",
   "name": "python",
   "nbconvert_exporter": "python",
   "pygments_lexer": "ipython3",
   "version": "3.5.2"
  }
 },
 "nbformat": 4,
 "nbformat_minor": 2
}
