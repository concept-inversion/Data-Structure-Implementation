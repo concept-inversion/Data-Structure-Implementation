{
 "cells": [
  {
   "cell_type": "code",
   "execution_count": 5,
   "metadata": {},
   "outputs": [
    {
     "name": "stdout",
     "output_type": "stream",
     "text": [
      "4 8\n",
      "2 3 5 7 1 3 7 9\n",
      "0 0\n",
      "1 0\n",
      "2 0\n",
      "3 0\n",
      "0 2\n",
      "0 3\n",
      "1 3\n",
      "2 5\n"
     ]
    }
   ],
   "source": [
    "class JobQueue:\n",
    "    def read_data(self):\n",
    "        self.num_workers, m = map(int, input().split())\n",
    "        self.jobs = list(map(int, input().split() ))\n",
    "        assert m == len(self.jobs)\n",
    "\n",
    "    def write_response(self):\n",
    "        for i in range(len(self.jobs)):\n",
    "          print(self.assigned_workers[i], self.start_times[i]) \n",
    "\n",
    "    def assign_jobs(self):\n",
    "        # TODO: replace this code with a faster algorithm.\n",
    "        self.assigned_workers = [None] * len(self.jobs)\n",
    "        self.start_times = [None] * len(self.jobs)\n",
    "        next_free_time = [0] * self.num_workers\n",
    "        for i in range(len(self.jobs)):\n",
    "          next_worker = 0\n",
    "          for j in range(self.num_workers):\n",
    "            if next_free_time[j] < next_free_time[next_worker]:\n",
    "              next_worker = j\n",
    "          self.assigned_workers[i] = next_worker\n",
    "          self.start_times[i] = next_free_time[next_worker]\n",
    "          next_free_time[next_worker] += self.jobs[i]\n",
    "\n",
    "    def solve(self):\n",
    "        self.read_data()\n",
    "        self.assign_jobs()\n",
    "        self.write_response()\n",
    "\n",
    "if __name__ == '__main__':\n",
    "    job_queue  = JobQueue()\n",
    "    job_queue.solve()"
   ]
  },
  {
   "cell_type": "code",
   "execution_count": null,
   "metadata": {},
   "outputs": [],
   "source": [
    ""
   ]
  },
  {
   "cell_type": "code",
   "execution_count": null,
   "metadata": {},
   "outputs": [],
   "source": [
    ""
   ]
  }
 ],
 "metadata": {
  "kernelspec": {
   "display_name": "Python 3",
   "language": "python",
   "name": "python3"
  },
  "language_info": {
   "codemirror_mode": {
    "name": "ipython",
    "version": 3.0
   },
   "file_extension": ".py",
   "mimetype": "text/x-python",
   "name": "python",
   "nbconvert_exporter": "python",
   "pygments_lexer": "ipython3",
   "version": "3.5.2"
  }
 },
 "nbformat": 4,
 "nbformat_minor": 2
}